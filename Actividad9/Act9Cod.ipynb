{
 "cells": [
  {
   "cell_type": "code",
   "execution_count": 8,
   "metadata": {},
   "outputs": [],
   "source": [
    "import seaborn as sns"
   ]
  },
  {
   "cell_type": "code",
   "execution_count": 9,
   "metadata": {},
   "outputs": [],
   "source": [
    "sns.set(rc={'figure.figsize':(12,8.27)})"
   ]
  },
  {
   "cell_type": "code",
   "execution_count": 10,
   "metadata": {},
   "outputs": [],
   "source": [
    "#Se define un campo vectorial \n",
    "def vectorfield(w, t, p):\n",
    "    \"\"\"\n",
    "    Se definen las ecuaciones diferenciales para un sistema acoplado masa-resorte.\n",
    "\n",
    "    Argumentos:\n",
    "        w:  vector de las variables dadas:\n",
    "                  w = [x1,y1,x2,y2]\n",
    "        t:  tiempo.\n",
    "        p:  vector de los parámetros:\n",
    "                  p = [m1,m2,k1,k2,L1,L2,b1,b2]\n",
    "    \"\"\"\n",
    "    x1, y1, x2, y2 = w\n",
    "    m1, m2, k1, k2, k3, L1, L2, b1, b2 = p\n",
    "\n",
    "    #Se crea f = (x1',y1',x2',y2'):\n",
    "    f = [y1,\n",
    "         (-b1 * y1 - k1 * (x1 - L1) - k2 * ( x1 - L1 + L2 - x2 )) / m1,\n",
    "         y2,\n",
    "         (-b2 * y2 - k3 * ( x2 - L2 ) - k2 * ( x2 - L2 + L1 - x1 ))/ m2]\n",
    "    \n",
    "    return f\n",
    "\n"
   ]
  },
  {
   "cell_type": "code",
   "execution_count": 11,
   "metadata": {},
   "outputs": [],
   "source": [
    "#Se utiliza ODEINT para resolver las ecuaciones diferenciales definidas por el campo vectorial.\n",
    "from scipy.integrate import odeint\n",
    "\n",
    "#Valores de los parámetros\n",
    "\n",
    "#Masas.\n",
    "m1 = 1.0\n",
    "m2 = 1.0\n",
    "\n",
    "#Constantes de los resortes.\n",
    "k1 = 1.0\n",
    "k2 = 1.0\n",
    "k3 = 1.0\n",
    "\n",
    "#Longitudes naturales.\n",
    "L1 = 1.0\n",
    "L2 = 1.0\n",
    "\n",
    "#Coeficientes de fricción.\n",
    "b1 = 0.0\n",
    "b2 = 0.0\n",
    "\n",
    "#Condiciones iniciales.\n",
    "#x1 y x2 son las posiciones iniciales; y1 y y2 son las velocidades iniciales.\n",
    "x1 = 1.0\n",
    "y1 = 0.0\n",
    "x2 = 0.0\n",
    "y2 = 0.0\n",
    "\n",
    "#Pámetros para la reslución del EDO. \n",
    "abserr = 1.0e-8\n",
    "relerr = 1.0e-6\n",
    "stoptime = 30.0\n",
    "numpoints = 750\n",
    "\n",
    "\n",
    "#Se crean las muestras de tiempo para el resultado del solucionador de EDO.  \n",
    "#Se usa un gran número de puntos, para hacer una gráfica que se vea bien.\n",
    "t = [stoptime * float(i) / (numpoints - 1) for i in range(numpoints)]\n",
    "\n",
    "\n",
    "#Se empacan los parámetros y las condiciones iniciales:\n",
    "p = [m1, m2, k1, k2, k3, L1, L2, b1, b2]\n",
    "w0 = [x1, y1, x2, y2]\n",
    "\n",
    "#Se llama al solucionador de EDO.\n",
    "wsol = odeint(vectorfield, w0, t, args=(p,),\n",
    "              atol=abserr, rtol=relerr)\n",
    "\n",
    "#Se imprimen los resultados.\n",
    "#Cabe aclarar que fueron reemplazados los comandos de Python 3 para adaptarlos al usado en el curso.\n",
    "for t1, w1 in zip(t, wsol):\n",
    "    print(t1, w1[0], w1[1], w1[2], w1[3], file=open(\"Dos_Resortes2.dat\", \"a\"))"
   ]
  },
  {
   "cell_type": "code",
   "execution_count": 12,
   "metadata": {},
   "outputs": [],
   "source": [
    "#Se grafica la solución generada.\n",
    "\n",
    "from numpy import loadtxt\n",
    "from pylab import figure, plot, xlabel, grid, legend, title, savefig\n",
    "from matplotlib.font_manager import FontProperties\n",
    "\n",
    "t, x1, xy, x2, y2 = loadtxt('Dos_Resortes2.dat', unpack=True)\n",
    "\n",
    "figure(1, figsize=(6, 4.5))\n",
    "\n",
    "xlabel('t')\n",
    "grid(True)\n",
    "lw = 1\n",
    "\n",
    "plot(t, x1, color='b', linewidth=lw)\n",
    "plot(t, x2, color= \"g\", linewidth=lw)\n",
    "\n",
    "legend((r'$x_1$', r'$x_2$'), prop=FontProperties(size=16))\n",
    "title('Desplazamiento de masas para un\\nsistema masa-resorte acoplado')\n",
    "savefig('Dos_Resortes2.png', dpi=100)"
   ]
  },
  {
   "cell_type": "code",
   "execution_count": null,
   "metadata": {},
   "outputs": [],
   "source": []
  }
 ],
 "metadata": {
  "kernelspec": {
   "display_name": "Python 3",
   "language": "python",
   "name": "python3"
  },
  "language_info": {
   "codemirror_mode": {
    "name": "ipython",
    "version": 3
   },
   "file_extension": ".py",
   "mimetype": "text/x-python",
   "name": "python",
   "nbconvert_exporter": "python",
   "pygments_lexer": "ipython3",
   "version": "3.6.3"
  }
 },
 "nbformat": 4,
 "nbformat_minor": 2
}
